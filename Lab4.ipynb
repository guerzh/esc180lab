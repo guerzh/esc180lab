{
 "cells": [
  {
   "cell_type": "markdown",
   "metadata": {},
   "source": [
    "### Lab 4: Testing the Calculator\n",
    "\n",
    "In this lab, you write code that *tests* other code for correctness, and practice some Python constructs\n",
    "\n",
    "#### Problem 1\n",
    "\n",
    "The solutions for the calculator lab  are linked from the course webpage. Download those solutions. Create the file `test_calc.py`, and add in some testing code for the calculator lab in the `if __name__ == \"__main__\"` block of `test_calc.py` (remember to `import lab02`). Set up the testing such that in `test_calc.py`, you print `\"Test 1 failed\"` or `\"Test 1 passed\"`, `\"Test 2 failed\"` or `\"Test 2 passed\"`, etc., depending on whether the tests fail or pass. In order to do that, you should define a new function in `lab02.py`, named `get_current_value`. You can then have code along the lines of\n",
    "    \n",
    "    import lab02\n",
    "    if __name__ == 'main':\n",
    "        lab02.initialize()\n",
    "        lab02.add(42)\n",
    "        if lan02.get_current_value() == 42:\n",
    "          print(\"Test 1 passed\")\n",
    "        else:\n",
    "          print(\"Test 1 failed\")\n",
    "          \n",
    "Now, run `test_calc.py` and make sure that the tests pass. Also make sure to be able to point out to the TA which `main` block is run, and which isn't.\n",
    "\n",
    "To run a program that consists of multiple files, place all the files in the same folder, and then use `Run->Run file as script` in Pyzo when the main file that you want to run is active.\n",
    "\n",
    "#### Problem 2\n",
    "\n",
    "Here is a function that computes the sum of a list of numbers.\n",
    "\n",
    "    def sum_nums(L):\n",
    "      s = 0\n",
    "      for num in L:\n",
    "        s += num\n",
    "\n",
    "      return s\n",
    "      \n",
    "Write a function with the signature `def count_evens(L)` that returns the number of even integers in the list `L`. Assume \\verb;L; only contains integers.\n",
    "\n",
    "#### Problem 3\n",
    "\n",
    "You can use `str()` to convert objects to strings: \n",
    "\n",
    "\n",
    "    >> str(42)\n",
    "    ‘42’\n",
    "    \n",
    "In particular, you can obtain the string representation of a list `list0` by using `str()`\n",
    "    >> list0 = [1, 2, 3]\n",
    "    >> str(list0)\n",
    "    ‘[1, 2, 3]’\n",
    "    \n",
    "Without using `str()` with arguments that are lists (using it with arguments that are not lists is fine), write a function with the signature `list_to_str(lis)` which returns the string representation of the list `lis`. You may assume `lis` only contains integers.\n",
    "\n",
    "Reminder:\n",
    "    >> \"hello\" + \"python\"\n",
    "    \"hellopython\"\n",
    "    "
   ]
  },
  {
   "cell_type": "code",
   "execution_count": null,
   "metadata": {},
   "outputs": [],
   "source": []
  }
 ],
 "metadata": {
  "kernelspec": {
   "display_name": "Python 3",
   "language": "python",
   "name": "python3"
  },
  "language_info": {
   "codemirror_mode": {
    "name": "ipython",
    "version": 3
   },
   "file_extension": ".py",
   "mimetype": "text/x-python",
   "name": "python",
   "nbconvert_exporter": "python",
   "pygments_lexer": "ipython3",
   "version": "3.5.2"
  }
 },
 "nbformat": 4,
 "nbformat_minor": 2
}
