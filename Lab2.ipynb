{
 "cells": [
  {
   "cell_type": "markdown",
   "metadata": {},
   "source": [
    "### Lab 2: Calculator\n",
    "\n",
    "For this lab, you will write a simple pocket calculator program. (You can refresh your memory of pocket calculators [here](https://www.online-calculator.com/). The program will be able to display the current value on the screen of the calculator. You will store the current value of the calculator in a variable. The initial value of the calculator (i.e., the initial current value) is 0.\n",
    "\n",
    "Do not write out the entire lab assignment and only then try to debug it: this almost never works. If you're new to programming, you shouldn't, as a rule, write more than five lines of code between trying the new code out to see if it does something sensible. You will get credit for the lab if you make reasonable progress toward completing it. Credit may be given for programs that accomplish only some of the tasks assigned. The TAs are here to help you. If you are stuck, ask for help!\n",
    "\n",
    "#### Problem 1: Welcome message\n",
    "\n",
    "In the `if __name__ == \"__main__’`  block, write code that displays the following:\n",
    "\n",
    "    Welcome to the calculator program.\n",
    "    Current value: 0\n",
    "    \n",
    "In your code, you should include `current_value = 0`, and the value of `current_value` is what you should be printing (i.e., don't just use `print(Current value: 0)`).    \n",
    "\n",
    "#### Problem 2: Displaying the Current Value\n",
    "\n",
    "Write a function whose signature is `display_current_value()` and which displays the current value in the calculator. In the  `if __name__ == \"__main__\"`  block, test this function by calling it and observing the output. To accomplish this, \n",
    "\n",
    "#### Problem 3: Addition\n",
    "\n",
    "Write a function whose signature is `def add(to_add)`, and which adds `to_add` to the current value in the calculator, and modifies the current value accordingly. In the  `if __name__ == \"__main__\"`  block, test the function `add` by calling it, as well as by calling `display_current_value` *Hint*: when modifying global variables from within functions, remember to declare them as `global`\n",
    "\n",
    "#### Problem 4: `global`\n",
    "\n",
    "In the previous question, you needed to use `global current_value` in the function `add` for `add` to be able to modify the value of `current_value`. Make sure you understand what happens when you don't use `global current` in the function `add`.\n",
    "\n",
    "#### Problem 5: Multiplication and Division \n",
    "\n",
    "Write functions that perform multiplication and division. What problems might the division function cause?\n",
    "\n",
    "#### Problem 6: Memory and Recall (challenge)\n",
    "\n",
    "Pocket calculators usually have a memory and a recall button. The memory button saves the current value and the recall button restores the saved value. Implement this functionality using functions.\n",
    "\n",
    "#### Problem 7: Undo (challenge)\n",
    "\n",
    "Implement a function that simulates the Undo button: the function restores the previous value that appeared on the screen before the current one.\n"
   ]
  }
 ],
 "metadata": {
  "kernelspec": {
   "display_name": "Python 3",
   "language": "python",
   "name": "python3"
  },
  "language_info": {
   "codemirror_mode": {
    "name": "ipython",
    "version": 3
   },
   "file_extension": ".py",
   "mimetype": "text/x-python",
   "name": "python",
   "nbconvert_exporter": "python",
   "pygments_lexer": "ipython3",
   "version": "3.5.2"
  }
 },
 "nbformat": 4,
 "nbformat_minor": 2
}
