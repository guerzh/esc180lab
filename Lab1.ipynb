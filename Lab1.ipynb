{
 "cells": [
  {
   "cell_type": "markdown",
   "metadata": {},
   "source": [
    "### Welcome to the CSC180 lab!\n",
    "\n",
    "This lab will introduce you to the tools we will be using throughout the term. Remember -- you are graded on whether you made reasonable effort toward completing the lab, so don't stress out too much! However, being able to complete the labs is crucial to success on the midterm and the exam, and, more importantly, during your career.\n",
    "\n",
    "Keep in touch with your TA, and contact them with questions."
   ]
  },
  {
   "cell_type": "markdown",
   "metadata": {},
   "source": [
    "#### Problem 1: Your first Python program\n",
    "\n"
   ]
  },
  {
   "cell_type": "markdown",
   "metadata": {},
   "source": [
    "Start up Pyzo, and type in the following program:\n",
    "        print(\"Hello, Python\")\n",
    "        \n",
    "Save the program to a file named `hello.py`, and use `Run->Execute file` to run your program and display the message."
   ]
  },
  {
   "cell_type": "markdown",
   "metadata": {},
   "source": [
    "#### Problem 2: Greetings\n",
    "\n",
    "Modify `hello.py` to greet you by your names. For example, if your names happen to be Hermione Granger and Harry Potter, the program should print out the following:\n",
    "\n",
    "    Hello, Hermione Granger\n",
    "    Hello, Harry Potter\n",
    "\n",
    "\n",
    "#### Problem 3: Variables\n",
    "In lecture, we talked about variables. Variables are used, among other things, in order to avoid entering the same information more than once. Use variables to print (again, assuming you are Hermione and Harry) the following without entering either of your names more than once into `hello.py`\n",
    "\n",
    "        Hello, Hermione Granger and Harry Potter. Your names are Harry Potter and Hermione Granger. Hi there. Your names are still Hermione Granger and Harry Potter.\n",
    "        \n",
    "#### Problem 4: Tracing\n",
    "\n",
    "Modify your program so that, *after printing the greetings*, the values of the variables that contain your names are changed to `Prof. Cluett` and `Prof. Thywissen`. Put a breakpoint on line 1  by clicking in the grey area to the right of the digit 1. There should now be a red dot there. Enable the `Workspace` tool by clicking `Tools->Workspace`. Now trace the code by executing it (using `Run->Execute file`) and the pressing the `Debug next` button and make sure you observe (and can point out to the TA) the change in the values of the variables.\n",
    "\n",
    "![PyzoTrace](./pyzo.png)\n",
    "\n",
    "\n",
    "#### Problem 5: More greetings\n",
    "\n",
    "Not everybody should be greeted by name. Write Python code that greets by name the person whose name is stored in a variable named `greetee`, except if the person's name is Lord Voldemort, in which case the program should print the message `\"I'm not talking to you.\"`"
   ]
  }
 ],
 "metadata": {
  "kernelspec": {
   "display_name": "Python 3",
   "language": "python",
   "name": "python3"
  },
  "language_info": {
   "codemirror_mode": {
    "name": "ipython",
    "version": 3
   },
   "file_extension": ".py",
   "mimetype": "text/x-python",
   "name": "python",
   "nbconvert_exporter": "python",
   "pygments_lexer": "ipython3",
   "version": "3.5.2"
  }
 },
 "nbformat": 4,
 "nbformat_minor": 2
}
