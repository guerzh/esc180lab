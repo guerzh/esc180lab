{
 "cells": [
  {
   "cell_type": "markdown",
   "metadata": {},
   "source": [
    "### Lab 3: Loops and $\\pi$\n",
    "\n",
    "For this lab, you will practice writing loops. \n",
    "\n",
    "#### Problem 1: $\\pi$\n",
    "\n",
    "The following is the Leibniz formula for $\\pi$:\n",
    "$$\n",
    "\t\\sum_0^{\\infty} \\frac{(-1)^n}{2n+1} = \\frac{\\pi}{4}.\n",
    "$$\n",
    "\n",
    "\\noindent Write a program (using a \\verb;for;- or a \\verb;while;- loop) to compute\n",
    "$$\n",
    "\t\\sum_0^{1000} \\frac{(-1)^n}{2n+1},\n",
    "$$\n",
    "and then print an approximation for $\\pi$ using the result of the computation.\n",
    "\n",
    "See [here](https://en.wikipedia.org/wiki/Leibniz_formula_for_%CF%80) for details on why this works.\n",
    "\n",
    "\n",
    "#### Problem 2: Simplifying Fractions\n",
    "\n",
    "Write a function with the signature `simpify_fraction(n, m)` which prints the simplified version of the fraction $\\frac{n}{m}$. For example, `simplify_fraction(3,6)` should print `1/2` and `simplify_fraction(8, 4)` should print `2/1`\n",
    "\n",
    "Hint: use a similar technique to the one we used when determining whether a number is prime. That is, try dividing both the numerator and the denominator by every possible divisor in turn. For example, if you are simplifying `16/12`, you can try dividing both by 16, 15, 14, ...., 1.\n",
    "\n",
    "You do not need to use a complicated algorithm to compute the greatest common divisor (although you certainly can do that, in Problem 4). \n",
    "\n",
    "#### Problem 3: Some more $\\pi$\n",
    "\n",
    "Now we would like to figure out how many terms in the summation above we need to add up in order to approximate $\\pi$ to \\verb;n; significant digits. Write a function that returns the number of the terms required to obtain an approximation of $\\pi$ using the Leibniz formula that agrees with the actual value of $\\pi$ to $n$ significant digits (i.e., the first $n$ digits are the same in $\\pi$ and in the approximation.)\n",
    "\n",
    "The best approximation of $\\pi$ using a \\verb;float; is available in `math.pi` (execute `import math` to be able to use it.) \n",
    "\n",
    "Part of your job is to figure out whether two numbers agree to $n$ significant digits. To figure that out, for a `float x` consider what `int(x*(10**n))` means.\n",
    "\n",
    "#### Problem 4: Euclid's Algorithm (challenge)\n",
    "\n",
    "A more efficient way of simplifying fractions than what we suggested for Problem 2 is [Euclid's algorithm](http://www.cut-the-knot.org/blue/Euclid.shtml):\n",
    "\n",
    "Implement and test Euclid's algorithm, and compare the number of steps it takes to the number of steps that the more naive algorithm takes.\n",
    "\n",
    "\n"
   ]
  }
 ],
 "metadata": {
  "kernelspec": {
   "display_name": "Python 3",
   "language": "python",
   "name": "python3"
  },
  "language_info": {
   "codemirror_mode": {
    "name": "ipython",
    "version": 3
   },
   "file_extension": ".py",
   "mimetype": "text/x-python",
   "name": "python",
   "nbconvert_exporter": "python",
   "pygments_lexer": "ipython3",
   "version": "3.5.2"
  }
 },
 "nbformat": 4,
 "nbformat_minor": 2
}
