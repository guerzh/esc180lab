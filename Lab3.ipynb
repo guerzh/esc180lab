{
 "cells": [
  {
   "cell_type": "markdown",
   "metadata": {},
   "source": [
    "### Lab 3: Multifile Projects; Computation with Loops\n",
    "\n",
    "In this lab, you write code that *tests* other code for correctness, and practice some Python constructs\n",
    "\n",
    "#### Problem 1\n",
    "\n",
    "The solutions for the calculator lab  are linked from the course webpage. Download those solutions. Create the file `test_calc.py`, and add in some testing code for the calculator lab in the `if __name__ == \"__main__\"` block of `test_calc.py` (remember to `import lab02`). Set up the testing such that in `test_calc.py`, you print `\"Test 1 failed\"` or `\"Test 1 passed\"`, `\"Test 2 failed\"` or `\"Test 2 passed\"`, etc., depending on whether the tests fail or pass. In order to do that, you should define a new function in `lab02.py`, named `get_current_value`. You can then have code along the lines of\n",
    "    \n",
    "    import lab02\n",
    "    if __name__ == '__main__':\n",
    "        lab02.initialize()\n",
    "        lab02.add(42)\n",
    "        if lab02.get_current_value() == 42:\n",
    "          print(\"Test 1 passed\")\n",
    "        else:\n",
    "          print(\"Test 1 failed\")\n",
    "          \n",
    "Now, run `test_calc.py` and make sure that the tests pass. Also make sure to be able to point out to the TA which `main` block is run, and which isn't.\n",
    "\n",
    "To run a program that consists of multiple files, place all the files in the same folder, and then use `Run->Run file as script` in Pyzo when the main file that you want to run is active.\n",
    "\n",
    "#### Problem 2: Sums of Cubes\n",
    "\n",
    "Recall that you can compute the sum $1 + 2 + .... + n$ using\n",
    "\n",
    "    total = 0\n",
    "    for i in range(1, n+1):\n",
    "        total += i\n",
    "\n",
    "Write a function that computes $1^3 + 2^3 + ... + n^3$ using a loop. Write another function that computes the sum  using the formula [here](https://math.stackexchange.com/questions/1328798/proving-the-sum-of-n-consecutive-cubes-is-equal-to-the-square-of-the-sum-of-t).\n",
    "\n",
    "Now write a function with the signature `def check_sum(n)` that computes the sum of consecutive cubes using a loop and using the formula, and return `True` iff the results match. (Recall: in this class, iff implies that `False` is returned if `True` is not returned.)\n",
    "\n",
    "Now, write a function with the signature `def check_sums_up_to_n(N)` that checks that the formula works for every $n\\leq N$ and returns `True` iff for every $n \\leq N$, the formula works. \n",
    "\n",
    "\n",
    "\n",
    "\n",
    "#### Problem 3: $\\pi$\n",
    "\n",
    "The following is the Leibniz formula for $\\pi$:\n",
    "$$\n",
    "\t\\sum_0^{\\infty} \\frac{(-1)^n}{2n+1} = \\frac{\\pi}{4}.\n",
    "$$\n",
    "\n",
    "Write a program (using a `for`- or a `while`- loop) to compute\n",
    "$$\n",
    "\t\\sum_0^{1000} \\frac{(-1)^n}{2n+1},\n",
    "$$\n",
    "and then print an approximation for $\\pi$ using the result of the computation.\n",
    "\n",
    "See [here](https://en.wikipedia.org/wiki/Leibniz_formula_for_%CF%80) for details on why this works.\n",
    "\n",
    "\n",
    "\n"
   ]
  }
 ],
 "metadata": {
  "kernelspec": {
   "display_name": "Python 3",
   "language": "python",
   "name": "python3"
  },
  "language_info": {
   "codemirror_mode": {
    "name": "ipython",
    "version": 3
   },
   "file_extension": ".py",
   "mimetype": "text/x-python",
   "name": "python",
   "nbconvert_exporter": "python",
   "pygments_lexer": "ipython3",
   "version": "3.5.2"
  }
 },
 "nbformat": 4,
 "nbformat_minor": 2
}
